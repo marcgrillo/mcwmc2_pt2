{
 "cells": [
  {
   "cell_type": "code",
   "execution_count": 262,
   "metadata": {},
   "outputs": [],
   "source": [
    "import numpy as np \n",
    "import matplotlib.pyplot as plt \n",
    "from scipy.stats import norm\n",
    "from scipy.stats import truncnorm"
   ]
  },
  {
   "cell_type": "code",
   "execution_count": 263,
   "metadata": {},
   "outputs": [],
   "source": [
    "def h(n, p1, p2, s1, s2):\n",
    "    return norm.rvs(loc = 0, scale = np.random.choice([s1,s2], p = [p1,p2], size = n))\n",
    "\n",
    "def hg(n, s, p1, p2, s1, s2, beta, vn):\n",
    "    ss = np.random.choice([s1,s2], p = [p1,p2], size = n)\n",
    "    ss2 = ss**2\n",
    "    return norm.rvs(loc = beta*s*ss/(vn + ss2), scale = np.sqrt( (vn + ss2)/(ss2 * vn) ) )\n",
    "\n",
    "def effe(s, h, sn):\n",
    "    return norm.pdf(s, loc = h, scale = sn)\n",
    "\n",
    "def effe_div_gi(s, h, beta, sn):\n",
    "    return norm.pdf(h, loc = s, scale = sn) / norm.pdf(h, loc = s*beta, scale = sn)\n"
   ]
  },
  {
   "cell_type": "code",
   "execution_count": 264,
   "metadata": {},
   "outputs": [],
   "source": [
    "n = int(1e5)\n",
    "\n",
    "p1 = 0.5\n",
    "p2 = 1 - p1\n",
    "s1 = 0.5\n",
    "s2 = 1.5\n",
    "sn = 1\n",
    "vn = sn**2\n",
    "\n",
    "\n",
    "s = h(1, p1, p2, s1, s2) + np.random.normal(0, sn, 1)"
   ]
  },
  {
   "cell_type": "code",
   "execution_count": 370,
   "metadata": {},
   "outputs": [
    {
     "name": "stdout",
     "output_type": "stream",
     "text": [
      "0.2132254709501249\n"
     ]
    }
   ],
   "source": [
    "strain = h(n, p1, p2, s1, s2)\n",
    "f = effe(s,strain,sn)\n",
    "est = np.mean(f)\n",
    "print(est)"
   ]
  },
  {
   "cell_type": "code",
   "execution_count": 371,
   "metadata": {},
   "outputs": [
    {
     "name": "stdout",
     "output_type": "stream",
     "text": [
      "1.1695962273670337\n"
     ]
    }
   ],
   "source": [
    "beta = 0.5\n",
    "hg_rvs = hg(n, s, p1, p2, s1, s2, beta, vn)\n",
    "f_div_g = effe_div_gi(s, hg_rvs, beta, sn)\n",
    "est = np.mean(f_div_g)\n",
    "print(est)"
   ]
  },
  {
   "cell_type": "code",
   "execution_count": 372,
   "metadata": {},
   "outputs": [
    {
     "data": {
      "text/plain": [
       "array([1, 1, 1, ..., 2, 1, 2])"
      ]
     },
     "execution_count": 372,
     "metadata": {},
     "output_type": "execute_result"
    }
   ],
   "source": [
    "mu1 = 1\n",
    "mu2 = 2\n",
    "mus = np.array([mu1, mu2])\n",
    "ss1 = 1\n",
    "ss2 = 1\n",
    "ss = np.array([ss1,ss2])\n",
    "ch = np.random.randint(0,2,n)\n",
    "mus[ch]"
   ]
  }
 ],
 "metadata": {
  "kernelspec": {
   "display_name": "base",
   "language": "python",
   "name": "python3"
  },
  "language_info": {
   "codemirror_mode": {
    "name": "ipython",
    "version": 3
   },
   "file_extension": ".py",
   "mimetype": "text/x-python",
   "name": "python",
   "nbconvert_exporter": "python",
   "pygments_lexer": "ipython3",
   "version": "3.11.5"
  }
 },
 "nbformat": 4,
 "nbformat_minor": 2
}
